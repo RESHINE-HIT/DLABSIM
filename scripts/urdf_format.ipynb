{
 "cells": [
  {
   "cell_type": "code",
   "execution_count": null,
   "metadata": {},
   "outputs": [],
   "source": [
    "import os\n",
    "import numpy as np\n",
    "import xml.dom.minidom as minidom\n",
    "\n",
    "urdf_path = \"/home/tatp/ws/GreatWall/DLabSim/urdf/airbot_play_v3_gripper.urdf\"\n",
    "new_urdf_path = urdf_path.replace(\".urdf\", \"_new.urdf\")\n",
    "\n",
    "xmlDoc = minidom.parse(urdf_path)\n",
    "\n",
    "# Save the modified URDF file\n",
    "if os.path.exists(new_urdf_path):\n",
    "    os.remove(new_urdf_path)\n",
    "print(\"new_urdf_path = \", new_urdf_path)\n",
    "\n",
    "with open(new_urdf_path, 'w') as fp:\n",
    "    xmlDoc.writexml(fp)"
   ]
  }
 ],
 "metadata": {
  "kernelspec": {
   "display_name": "base",
   "language": "python",
   "name": "python3"
  },
  "language_info": {
   "codemirror_mode": {
    "name": "ipython",
    "version": 3
   },
   "file_extension": ".py",
   "mimetype": "text/x-python",
   "name": "python",
   "nbconvert_exporter": "python",
   "pygments_lexer": "ipython3",
   "version": "3.9.18"
  }
 },
 "nbformat": 4,
 "nbformat_minor": 2
}
