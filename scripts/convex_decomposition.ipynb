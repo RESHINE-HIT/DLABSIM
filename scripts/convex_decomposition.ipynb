{
 "cells": [
  {
   "cell_type": "code",
   "execution_count": null,
   "metadata": {},
   "outputs": [],
   "source": [
    "import os\n",
    "import numpy as np\n",
    "import coacd\n",
    "import trimesh\n",
    "\n",
    "input_file = \"/home/tatp/ws/GreatWall/DLabSim/models/meshes/stl/pan.STL\"\n",
    "\n",
    "mesh = trimesh.load(input_file, force=\"mesh\")\n",
    "mesh = coacd.Mesh(mesh.vertices, mesh.faces)\n",
    "parts = coacd.run_coacd(mesh) # a list of convex hulls."
   ]
  },
  {
   "cell_type": "code",
   "execution_count": null,
   "metadata": {},
   "outputs": [],
   "source": [
    "import shutil\n",
    "output_dir = input_file.replace(\".STL\", \"\")\n",
    "if os.path.exists(output_dir):\n",
    "    shutil.rmtree(output_dir)\n",
    "os.makedirs(output_dir)\n",
    "\n",
    "rgba = \"0.5 0.5 0.5 1\"\n",
    "\n",
    "asset_name = input_file.split(\"/\")[-1].replace(\".STL\", \"\")\n",
    "\n",
    "asset_config = \"\"\"\n",
    "<asset>\n",
    "\"\"\"\n",
    "\n",
    "body_config = \"\"\"\n",
    "<body name=\"{}\" pos=\"0 0.2 0.53\">\n",
    "  <joint type=\"free\"/>\n",
    "\"\"\".format(asset_name)\n",
    "\n",
    "for i, part in enumerate(parts):\n",
    "    output_file = os.path.join(output_dir, f\"part_{i}.STL\")\n",
    "    part_mesh = trimesh.Trimesh(vertices=part[0], faces=part[1])\n",
    "    part_mesh.export(output_file)\n",
    "    asset_config += '  <mesh name=\"{}_part_{}\" file=\"stl/{}/part_{}.STL\" scale=\"1 1 1\"/>\\n'.format(asset_name, i, asset_name, i)\n",
    "    body_config += '  <geom type=\"mesh\" rgba=\"{}\" mesh=\"{}_part_{}\"/>\\n'.format(rgba, asset_name, i)\n",
    "\n",
    "asset_config += '</asset>\\n'\n",
    "print(asset_config)\n",
    "\n",
    "body_config += \"\"\"</body>\\n\"\"\"\n",
    "print(body_config)\n",
    "\n"
   ]
  }
 ],
 "metadata": {
  "kernelspec": {
   "display_name": "torch-env",
   "language": "python",
   "name": "python3"
  },
  "language_info": {
   "codemirror_mode": {
    "name": "ipython",
    "version": 3
   },
   "file_extension": ".py",
   "mimetype": "text/x-python",
   "name": "python",
   "nbconvert_exporter": "python",
   "pygments_lexer": "ipython3",
   "version": "3.9.0"
  }
 },
 "nbformat": 4,
 "nbformat_minor": 2
}
