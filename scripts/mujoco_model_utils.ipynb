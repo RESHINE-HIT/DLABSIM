{
 "cells": [
  {
   "cell_type": "code",
   "execution_count": null,
   "metadata": {},
   "outputs": [],
   "source": [
    "%env MUJOCO_GL=egl\n",
    "\n",
    "import os\n",
    "import mujoco\n",
    "import numpy as np\n",
    "import mediapy as media\n",
    "import matplotlib.pyplot as plt\n",
    "\n",
    "from dlabsim import DLABSIM_ASSERT_DIR\n",
    "\n",
    "np.set_printoptions(precision=3, suppress=True, linewidth=500)"
   ]
  },
  {
   "cell_type": "code",
   "execution_count": null,
   "metadata": {},
   "outputs": [],
   "source": [
    "mjcf_file_path = \"mjcf/il.xml\"\n",
    "mjcf_file_path = os.path.join(DLABSIM_ASSERT_DIR, mjcf_file_path)\n",
    "\n",
    "mj_model = mujoco.MjModel.from_xml_path(mjcf_file_path)\n",
    "mj_data = mujoco.MjData(mj_model)\n",
    "\n",
    "options = mujoco.MjvOption()\n",
    "mujoco.mjv_defaultOption(options)\n",
    "# options.flags[mujoco.mjtVisFlag.mjVIS_TRANSPARENT] = True\n",
    "# options.flags[mujoco.mjtVisFlag.mjVIS_CONTACTFORCE] = True\n",
    "# options.flags[mujoco.mjtVisFlag.mjVIS_COM] = True\n",
    "# options.flags[mujoco.mjtVisFlag.mjVIS_PERTFORCE] = True\n",
    "# options.flags[mujoco.mjtVisFlag.mjVIS_PERTOBJ] = True\n",
    "# options.frame = mujoco.mjtFrame.mjFRAME_BODY.value\n",
    "\n",
    "mujoco.mj_resetData(mj_model, mj_data)\n",
    "mujoco.mj_forward(mj_model, mj_data)\n",
    "\n",
    "renderer = mujoco.Renderer(mj_model, 480, 640)\n",
    "\n",
    "renderer.update_scene(mj_data, 1, options)\n",
    "media.show_image(renderer.render())"
   ]
  },
  {
   "cell_type": "code",
   "execution_count": null,
   "metadata": {},
   "outputs": [],
   "source": [
    "m_body = mj_model.body(\"cup_pink\")\n",
    "m_body.pos[2] += 1\n",
    "print(m_body.pos)\n",
    "print(m_body.quat)\n",
    "\n",
    "d_body = mj_data.body(\"cup_pink\")\n",
    "d_body.xpos[2] += 1\n",
    "print(d_body.xpos)\n",
    "print(d_body.xquat)\n",
    "\n",
    "mujoco.mj_forward(mj_model, mj_data)\n",
    "mujoco.mj_step(mj_model, mj_data)\n",
    "renderer.update_scene(mj_data, 1, options)\n",
    "media.show_image(renderer.render())"
   ]
  },
  {
   "cell_type": "code",
   "execution_count": null,
   "metadata": {},
   "outputs": [],
   "source": [
    "rb_link_list = [\"arm_base\", \"link1\", \"link2\", \"link3\", \"link4\", \"link5\", \"link6\", \"right\", \"left\"]\n",
    "\n",
    "for name in rb_link_list:\n",
    "    position = mj_data.body(name).xpos\n",
    "    quat = mj_data.body(name).xquat\n",
    "    print(f\"{name}\")\n",
    "    # print(f'pos=\"{position[0]} {position[1]} {position[2]}\" quat=\"{quat[0]} {quat[1]} {quat[2]} {quat[3]}\"')\n",
    "    print('pos=\"{:.3f} {:.3f} {:.3f}\" quat=\"{:.3f} {:.3f} {:.3f} {:.3f}\"'.format(*position, *quat))\n"
   ]
  },
  {
   "cell_type": "code",
   "execution_count": null,
   "metadata": {},
   "outputs": [],
   "source": [
    "body = mj_model.body(\"arm_base\")\n",
    "print(body.pos)\n",
    "print(body.quat)"
   ]
  },
  {
   "cell_type": "code",
   "execution_count": null,
   "metadata": {},
   "outputs": [],
   "source": [
    "body = mj_data.body(\"arm_base\")\n",
    "body"
   ]
  }
 ],
 "metadata": {
  "kernelspec": {
   "display_name": "pinocchio_env",
   "language": "python",
   "name": "python3"
  },
  "language_info": {
   "codemirror_mode": {
    "name": "ipython",
    "version": 3
   },
   "file_extension": ".py",
   "mimetype": "text/x-python",
   "name": "python",
   "nbconvert_exporter": "python",
   "pygments_lexer": "ipython3",
   "version": "3.9.18"
  }
 },
 "nbformat": 4,
 "nbformat_minor": 2
}
