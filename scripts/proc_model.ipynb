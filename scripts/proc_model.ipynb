{
 "cells": [
  {
   "cell_type": "code",
   "execution_count": null,
   "metadata": {},
   "outputs": [],
   "source": [
    "import numpy as np\n",
    "import open3d as o3d\n",
    "import matplotlib.pyplot as plt\n",
    "import open3d.visualization as vis\n",
    "from scipy.spatial.transform import Rotation as R"
   ]
  },
  {
   "cell_type": "code",
   "execution_count": null,
   "metadata": {},
   "outputs": [],
   "source": [
    "print(\"Load obj\")\n",
    "file_path = \"/home/tatp/ws/GreatWall/DLabSim/models/meshes/stl/bowl_ascll.STL\"\n",
    "mesh = o3d.io.read_triangle_mesh(file_path)\n",
    "\n",
    "print(\"get vertices\")\n",
    "vertices = np.asarray(mesh.vertices)\n",
    "vertex_normals = np.asarray(mesh.vertex_normals)\n",
    "\n",
    "# Print the converted arrays\n",
    "print(\"Vertices {} \\n\".format(vertices.shape))\n",
    "print(\"Triangles {} \\n\".format(vertex_normals.shape))\n",
    "\n",
    "# Visualize the triangle mesh\n",
    "# vis.draw_geometries([mesh])"
   ]
  },
  {
   "cell_type": "code",
   "execution_count": null,
   "metadata": {},
   "outputs": [],
   "source": [
    "bbox = mesh.get_axis_aligned_bounding_box()\n",
    "print(bbox)\n",
    "\n",
    "# Get the minimum z-coordinate of the bounding box\n",
    "min_x = bbox.get_min_bound()[0]\n",
    "min_y = bbox.get_min_bound()[1]\n",
    "min_z = bbox.get_min_bound()[2]\n",
    "\n",
    "max_x = bbox.get_max_bound()[0]\n",
    "max_y = bbox.get_max_bound()[1]\n",
    "max_z = bbox.get_max_bound()[2]\n",
    "\n",
    "print(\"min_x= {:8.4f} max_x={:8.4f}  max_x-min_x={:8.4f}\".format(min_x, max_x, max_x-min_x))\n",
    "print(\"min_y= {:8.4f} max_y={:8.4f}  max_y-min_y={:8.4f}\".format(min_y, max_y, max_y-min_y))\n",
    "print(\"min_z= {:8.4f} max_z={:8.4f}  max_z-min_z={:8.4f}\".format(min_z, max_z, max_z-min_z))\n",
    "\n",
    "# 12   18.5"
   ]
  }
 ],
 "metadata": {
  "kernelspec": {
   "display_name": "renderer",
   "language": "python",
   "name": "python3"
  },
  "language_info": {
   "codemirror_mode": {
    "name": "ipython",
    "version": 3
   },
   "file_extension": ".py",
   "mimetype": "text/x-python",
   "name": "python",
   "nbconvert_exporter": "python",
   "pygments_lexer": "ipython3",
   "version": "3.9.18"
  }
 },
 "nbformat": 4,
 "nbformat_minor": 2
}
